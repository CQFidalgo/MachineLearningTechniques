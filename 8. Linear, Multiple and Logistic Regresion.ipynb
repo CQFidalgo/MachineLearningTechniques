{
 "cells": [
  {
   "cell_type": "markdown",
   "metadata": {},
   "source": [
    "# PRÁCTICA 8: REGRESIÓN LINEAL, MÚLTIPLE Y LOGÍSTICA\n"
   ]
  },
  {
   "cell_type": "code",
   "execution_count": null,
   "metadata": {},
   "outputs": [],
   "source": []
  },
  {
   "cell_type": "markdown",
   "metadata": {},
   "source": [
    "## CQFidalgo"
   ]
  },
  {
   "cell_type": "code",
   "execution_count": 2,
   "metadata": {},
   "outputs": [],
   "source": [
    "import os, zipfile, urllib.request"
   ]
  },
  {
   "cell_type": "raw",
   "metadata": {},
   "source": [
    "Comprueba si existe el archivo en el directorio de trabajo donde se está trabajando y si éste no existe, lo descarga del repositorio UCI."
   ]
  },
  {
   "cell_type": "code",
   "execution_count": 3,
   "metadata": {},
   "outputs": [],
   "source": [
    "path = os.getcwd()\n",
    "if (os.path.exists(path+'/avila.zip')):\n",
    "    dataset = path+'/avila.zip'\n",
    "else:\n",
    "    url = 'http://archive.ics.uci.edu/ml/machine-learning-databases/00459/avila.zip'\n",
    "    dataset = urllib.request.urlretrieve(url, path+'/avila.zip')\n",
    "    dataset = path+'/avila.zip'"
   ]
  },
  {
   "cell_type": "raw",
   "metadata": {},
   "source": [
    "Extrae el contenido del fichero."
   ]
  },
  {
   "cell_type": "code",
   "execution_count": 4,
   "metadata": {},
   "outputs": [],
   "source": [
    "file_zip = zipfile.ZipFile(dataset, 'r')\n",
    "try:\n",
    "    files = file_zip.namelist()\n",
    "    file_zip.extractall(path = path+'/')\n",
    "except:\n",
    "    pass\n",
    "file_zip.close()"
   ]
  },
  {
   "cell_type": "markdown",
   "metadata": {},
   "source": [
    "# Apartado 1: \n",
    "Descargue el conjunto de datos AVILA del repositorio UCI. Verá que se encuentra\n",
    "dividido en dos ficheros (trial y test). Júntelos en un sólo y añada una cabecera F1,F2….,\n",
    "F10, Class. El resultado grábelo en un fichero para ser leído por el módulo pandas de\n",
    "python."
   ]
  },
  {
   "cell_type": "code",
   "execution_count": 5,
   "metadata": {},
   "outputs": [],
   "source": [
    "import pandas as pd"
   ]
  },
  {
   "cell_type": "code",
   "execution_count": 6,
   "metadata": {},
   "outputs": [],
   "source": [
    "trial = pd.read_csv(files[1], header = None)\n",
    "test = pd.read_csv(files[2], header = None)"
   ]
  },
  {
   "cell_type": "code",
   "execution_count": 7,
   "metadata": {},
   "outputs": [
    {
     "data": {
      "text/html": [
       "<div>\n",
       "<style scoped>\n",
       "    .dataframe tbody tr th:only-of-type {\n",
       "        vertical-align: middle;\n",
       "    }\n",
       "\n",
       "    .dataframe tbody tr th {\n",
       "        vertical-align: top;\n",
       "    }\n",
       "\n",
       "    .dataframe thead th {\n",
       "        text-align: right;\n",
       "    }\n",
       "</style>\n",
       "<table border=\"1\" class=\"dataframe\">\n",
       "  <thead>\n",
       "    <tr style=\"text-align: right;\">\n",
       "      <th></th>\n",
       "      <th>F1</th>\n",
       "      <th>F2</th>\n",
       "      <th>F3</th>\n",
       "      <th>F4</th>\n",
       "      <th>F5</th>\n",
       "      <th>F6</th>\n",
       "      <th>F7</th>\n",
       "      <th>F8</th>\n",
       "      <th>F9</th>\n",
       "      <th>F10</th>\n",
       "      <th>Class</th>\n",
       "    </tr>\n",
       "  </thead>\n",
       "  <tbody>\n",
       "    <tr>\n",
       "      <th>0</th>\n",
       "      <td>0.266074</td>\n",
       "      <td>-0.165620</td>\n",
       "      <td>0.320980</td>\n",
       "      <td>0.483299</td>\n",
       "      <td>0.172340</td>\n",
       "      <td>0.273364</td>\n",
       "      <td>0.371178</td>\n",
       "      <td>0.929823</td>\n",
       "      <td>0.251173</td>\n",
       "      <td>0.159345</td>\n",
       "      <td>A</td>\n",
       "    </tr>\n",
       "    <tr>\n",
       "      <th>1</th>\n",
       "      <td>0.130292</td>\n",
       "      <td>0.870736</td>\n",
       "      <td>-3.210528</td>\n",
       "      <td>0.062493</td>\n",
       "      <td>0.261718</td>\n",
       "      <td>1.436060</td>\n",
       "      <td>1.465940</td>\n",
       "      <td>0.636203</td>\n",
       "      <td>0.282354</td>\n",
       "      <td>0.515587</td>\n",
       "      <td>A</td>\n",
       "    </tr>\n",
       "    <tr>\n",
       "      <th>2</th>\n",
       "      <td>-0.116585</td>\n",
       "      <td>0.069915</td>\n",
       "      <td>0.068476</td>\n",
       "      <td>-0.783147</td>\n",
       "      <td>0.261718</td>\n",
       "      <td>0.439463</td>\n",
       "      <td>-0.081827</td>\n",
       "      <td>-0.888236</td>\n",
       "      <td>-0.123005</td>\n",
       "      <td>0.582939</td>\n",
       "      <td>A</td>\n",
       "    </tr>\n",
       "    <tr>\n",
       "      <th>3</th>\n",
       "      <td>0.031541</td>\n",
       "      <td>0.297600</td>\n",
       "      <td>-3.210528</td>\n",
       "      <td>-0.583590</td>\n",
       "      <td>-0.721442</td>\n",
       "      <td>-0.307984</td>\n",
       "      <td>0.710932</td>\n",
       "      <td>1.051693</td>\n",
       "      <td>0.594169</td>\n",
       "      <td>-0.533994</td>\n",
       "      <td>A</td>\n",
       "    </tr>\n",
       "    <tr>\n",
       "      <th>4</th>\n",
       "      <td>0.229043</td>\n",
       "      <td>0.807926</td>\n",
       "      <td>-0.052442</td>\n",
       "      <td>0.082634</td>\n",
       "      <td>0.261718</td>\n",
       "      <td>0.148790</td>\n",
       "      <td>0.635431</td>\n",
       "      <td>0.051062</td>\n",
       "      <td>0.032902</td>\n",
       "      <td>-0.086652</td>\n",
       "      <td>F</td>\n",
       "    </tr>\n",
       "    <tr>\n",
       "      <th>...</th>\n",
       "      <td>...</td>\n",
       "      <td>...</td>\n",
       "      <td>...</td>\n",
       "      <td>...</td>\n",
       "      <td>...</td>\n",
       "      <td>...</td>\n",
       "      <td>...</td>\n",
       "      <td>...</td>\n",
       "      <td>...</td>\n",
       "      <td>...</td>\n",
       "      <td>...</td>\n",
       "    </tr>\n",
       "    <tr>\n",
       "      <th>10432</th>\n",
       "      <td>-0.128929</td>\n",
       "      <td>-0.040001</td>\n",
       "      <td>0.057807</td>\n",
       "      <td>0.557894</td>\n",
       "      <td>0.261718</td>\n",
       "      <td>-0.930856</td>\n",
       "      <td>-0.044076</td>\n",
       "      <td>1.158458</td>\n",
       "      <td>2.277968</td>\n",
       "      <td>-0.699884</td>\n",
       "      <td>X</td>\n",
       "    </tr>\n",
       "    <tr>\n",
       "      <th>10433</th>\n",
       "      <td>0.266074</td>\n",
       "      <td>0.556689</td>\n",
       "      <td>-0.020434</td>\n",
       "      <td>0.176624</td>\n",
       "      <td>0.261718</td>\n",
       "      <td>-0.515608</td>\n",
       "      <td>0.597681</td>\n",
       "      <td>0.178349</td>\n",
       "      <td>0.625350</td>\n",
       "      <td>-0.657245</td>\n",
       "      <td>G</td>\n",
       "    </tr>\n",
       "    <tr>\n",
       "      <th>10434</th>\n",
       "      <td>-0.054866</td>\n",
       "      <td>0.580242</td>\n",
       "      <td>0.032912</td>\n",
       "      <td>-0.016668</td>\n",
       "      <td>0.261718</td>\n",
       "      <td>1.519109</td>\n",
       "      <td>0.371178</td>\n",
       "      <td>-0.985508</td>\n",
       "      <td>-0.403638</td>\n",
       "      <td>1.276301</td>\n",
       "      <td>A</td>\n",
       "    </tr>\n",
       "    <tr>\n",
       "      <th>10435</th>\n",
       "      <td>0.080916</td>\n",
       "      <td>0.588093</td>\n",
       "      <td>0.015130</td>\n",
       "      <td>0.002250</td>\n",
       "      <td>0.261718</td>\n",
       "      <td>-0.930856</td>\n",
       "      <td>-0.270579</td>\n",
       "      <td>0.163807</td>\n",
       "      <td>-0.091823</td>\n",
       "      <td>-0.593329</td>\n",
       "      <td>F</td>\n",
       "    </tr>\n",
       "    <tr>\n",
       "      <th>10436</th>\n",
       "      <td>0.377169</td>\n",
       "      <td>0.014957</td>\n",
       "      <td>0.381439</td>\n",
       "      <td>0.292753</td>\n",
       "      <td>0.261718</td>\n",
       "      <td>-1.470679</td>\n",
       "      <td>-0.006326</td>\n",
       "      <td>-0.494919</td>\n",
       "      <td>-0.247731</td>\n",
       "      <td>-1.212974</td>\n",
       "      <td>H</td>\n",
       "    </tr>\n",
       "  </tbody>\n",
       "</table>\n",
       "<p>20867 rows × 11 columns</p>\n",
       "</div>"
      ],
      "text/plain": [
       "             F1        F2        F3        F4        F5        F6        F7  \\\n",
       "0      0.266074 -0.165620  0.320980  0.483299  0.172340  0.273364  0.371178   \n",
       "1      0.130292  0.870736 -3.210528  0.062493  0.261718  1.436060  1.465940   \n",
       "2     -0.116585  0.069915  0.068476 -0.783147  0.261718  0.439463 -0.081827   \n",
       "3      0.031541  0.297600 -3.210528 -0.583590 -0.721442 -0.307984  0.710932   \n",
       "4      0.229043  0.807926 -0.052442  0.082634  0.261718  0.148790  0.635431   \n",
       "...         ...       ...       ...       ...       ...       ...       ...   \n",
       "10432 -0.128929 -0.040001  0.057807  0.557894  0.261718 -0.930856 -0.044076   \n",
       "10433  0.266074  0.556689 -0.020434  0.176624  0.261718 -0.515608  0.597681   \n",
       "10434 -0.054866  0.580242  0.032912 -0.016668  0.261718  1.519109  0.371178   \n",
       "10435  0.080916  0.588093  0.015130  0.002250  0.261718 -0.930856 -0.270579   \n",
       "10436  0.377169  0.014957  0.381439  0.292753  0.261718 -1.470679 -0.006326   \n",
       "\n",
       "             F8        F9       F10 Class  \n",
       "0      0.929823  0.251173  0.159345     A  \n",
       "1      0.636203  0.282354  0.515587     A  \n",
       "2     -0.888236 -0.123005  0.582939     A  \n",
       "3      1.051693  0.594169 -0.533994     A  \n",
       "4      0.051062  0.032902 -0.086652     F  \n",
       "...         ...       ...       ...   ...  \n",
       "10432  1.158458  2.277968 -0.699884     X  \n",
       "10433  0.178349  0.625350 -0.657245     G  \n",
       "10434 -0.985508 -0.403638  1.276301     A  \n",
       "10435  0.163807 -0.091823 -0.593329     F  \n",
       "10436 -0.494919 -0.247731 -1.212974     H  \n",
       "\n",
       "[20867 rows x 11 columns]"
      ]
     },
     "execution_count": 7,
     "metadata": {},
     "output_type": "execute_result"
    }
   ],
   "source": [
    "data = pd.concat([trial,test]) #Junta el contenido de los dos ficheros\n",
    "data.columns = ['F1','F2','F3','F4','F5','F6','F7','F8','F9','F10','Class'] #Añade la cabecera\n",
    "data.to_csv(path+'/avila.csv', index = False) #Graba el resultado en un fichero csv\n",
    "data"
   ]
  },
  {
   "cell_type": "markdown",
   "metadata": {},
   "source": [
    "# Apartado 2\n",
    "Con este fichero generado realice una clasificación mediante regresión lineal múltiple.\n",
    "Para ello, se destinará ⅔ de los datos escogidos aleatoriamente de manera estratificada\n",
    "para aprendizaje y, el resto, para verificación."
   ]
  },
  {
   "cell_type": "code",
   "execution_count": 8,
   "metadata": {},
   "outputs": [],
   "source": [
    "import numpy as np\n",
    "from sklearn.preprocessing import MinMaxScaler, LabelBinarizer\n",
    "from sklearn.model_selection import train_test_split, cross_val_score, StratifiedKFold\n",
    "from sklearn.linear_model import LinearRegression\n",
    "from sklearn.metrics import accuracy_score\n",
    "from sklearn.metrics import confusion_matrix"
   ]
  },
  {
   "cell_type": "code",
   "execution_count": 12,
   "metadata": {},
   "outputs": [
    {
     "data": {
      "text/plain": [
       "array(['A', 'A', 'A', ..., 'A', 'F', 'H'], dtype=object)"
      ]
     },
     "execution_count": 12,
     "metadata": {},
     "output_type": "execute_result"
    }
   ],
   "source": [
    "file = pd.read_csv('avila.csv')\n",
    "\n",
    "data = np.asarray(file)\n",
    "\n",
    "X = data[:,:10]\n",
    "X = MinMaxScaler().fit_transform(X) #Escala los datos\n",
    "Y = data[:,-1]\n",
    "Y"
   ]
  },
  {
   "cell_type": "code",
   "execution_count": 16,
   "metadata": {},
   "outputs": [
    {
     "name": "stdout",
     "output_type": "stream",
     "text": [
      "['A' 'A' 'A' ... 'A' 'F' 'H']\n"
     ]
    }
   ],
   "source": [
    "print(Y)"
   ]
  },
  {
   "cell_type": "markdown",
   "metadata": {},
   "source": [
    "### Hold-Out"
   ]
  },
  {
   "cell_type": "code",
   "execution_count": 11,
   "metadata": {},
   "outputs": [
    {
     "data": {
      "text/plain": [
       "array([[1, 0, 0, ..., 0, 0, 0],\n",
       "       [1, 0, 0, ..., 0, 0, 0],\n",
       "       [1, 0, 0, ..., 0, 0, 0],\n",
       "       ...,\n",
       "       [1, 0, 0, ..., 0, 0, 0],\n",
       "       [0, 0, 0, ..., 0, 0, 0],\n",
       "       [0, 0, 0, ..., 0, 0, 0]])"
      ]
     },
     "execution_count": 11,
     "metadata": {},
     "output_type": "execute_result"
    }
   ],
   "source": [
    "Z = LabelBinarizer().fit(np.unique(Y)).transform(Y) #Convierte a binario los valores de la clase\n",
    "Z"
   ]
  },
  {
   "cell_type": "raw",
   "metadata": {},
   "source": [
    "Separación estratificada de los valores de la clase y las etiquetas 1/3 y 2/3."
   ]
  },
  {
   "cell_type": "code",
   "execution_count": 10,
   "metadata": {},
   "outputs": [],
   "source": [
    "X_train,X_test,Y_train,Y_test = train_test_split(X,Z, test_size= 1./3., random_state=0, stratify=Y)"
   ]
  },
  {
   "cell_type": "code",
   "execution_count": 11,
   "metadata": {},
   "outputs": [],
   "source": [
    "Y_predict = np.zeros(Y_test.shape, dtype=float) #Crea un array\n",
    "\n",
    "for i in range(Y_test.shape[1]):\n",
    "    regresion = LinearRegression().fit(X_train, Y_train[:,i]) #Ajusta el clasificador entrenandolo con la columna correspondiente\n",
    "    Y_predict[:,i] = regresion.predict(X_test) #Asigna la prediccion a la posición correspondiente del array creado"
   ]
  },
  {
   "cell_type": "code",
   "execution_count": 12,
   "metadata": {},
   "outputs": [
    {
     "name": "stdout",
     "output_type": "stream",
     "text": [
      "Tasa de acierto:  0.4798734905117884\n"
     ]
    }
   ],
   "source": [
    "print(\"Tasa de acierto: \", accuracy_score(np.argmax(Y_test, axis=1), np.argmax(Y_predict, axis=1)))"
   ]
  },
  {
   "cell_type": "code",
   "execution_count": 13,
   "metadata": {},
   "outputs": [
    {
     "name": "stdout",
     "output_type": "stream",
     "text": [
      "\n",
      "\t\t\tMatriz de Confusión:\n",
      "\n",
      " [[2792    0    0    0    6   32    0    0   27    0    0    0]\n",
      " [   0    0    0    0    0    0    0    0    3    0    0    0]\n",
      " [  56    0    0    0    4    3    0    0    6    0    0    0]\n",
      " [ 224    0    0    0    1    1    0    0    9    0    0    0]\n",
      " [ 675    0    0    0   18   21    0    0   15    0    1    0]\n",
      " [1285    0    0    0    0    7    0    0   16    0    0    0]\n",
      " [ 290    0    0    0    1    3    0    0    4    0    0    0]\n",
      " [ 286    0    0    0    2   29    0    0   29    0    0    0]\n",
      " [  66    0    0    0    4    4    0    0  475    0    5    0]\n",
      " [  27    0    0    0    3    0    0    0    0    0    0    0]\n",
      " [ 208    0    0    0   13    0    0    0   81    0   46    0]\n",
      " [  42    0    0    0    1    1    0    0  134    0    0    0]]\n"
     ]
    }
   ],
   "source": [
    "print(\"\\n\\t\\t\\tMatriz de Confusión:\\n\\n\", confusion_matrix(np.argmax(Y_test, axis=1), np.argmax(Y_predict, axis=1)))"
   ]
  },
  {
   "cell_type": "markdown",
   "metadata": {},
   "source": [
    "# Apartado 3\n",
    "Repetir el paso anterior empleando el método de validación cruzada con estratificación.\n",
    "Compare los resultados."
   ]
  },
  {
   "cell_type": "markdown",
   "metadata": {},
   "source": [
    "### Cross Validation (10 particiones)"
   ]
  },
  {
   "cell_type": "code",
   "execution_count": 14,
   "metadata": {},
   "outputs": [],
   "source": [
    "from sklearn.model_selection import StratifiedKFold"
   ]
  },
  {
   "cell_type": "code",
   "execution_count": 15,
   "metadata": {},
   "outputs": [],
   "source": [
    "skf = StratifiedKFold(n_splits=10) #Crea las 10 particiones para la validación cruzada\n",
    "accuracy = 0\n",
    "for train_index, test_index in skf.split(X, Y):\n",
    "    # Crea, entrena y predice según los 12 clasificadores en las 10 particiones\n",
    "    X_train, X_test = X[train_index], X[test_index]\n",
    "    Y_train, Y_test = Z[train_index], Z[test_index]\n",
    "\n",
    "    Y_predict = np.zeros(Y_test.shape, dtype=float) #Crea un array\n",
    "\n",
    "    for i in range(Y_test.shape[1]):\n",
    "        regresion = LinearRegression().fit(X_train, Y_train[:,i]) #Ajusta el clasificador entrenandolo con la columna correspondiente\n",
    "        Y_predict[:,i] = regresion.predict(X_test) #Asigna la prediccion a la posición correspondiente del array creado\n",
    "    \n",
    "    accuracy = accuracy + accuracy_score(np.argmax(Y_test, axis=1), np.argmax(Y_predict, axis=1)) #Suma la tasa de acierto en cada iteración\n",
    "\n",
    "accuracy = accuracy/10 #Calcula la tasa de acierto global"
   ]
  },
  {
   "cell_type": "code",
   "execution_count": 16,
   "metadata": {},
   "outputs": [
    {
     "name": "stdout",
     "output_type": "stream",
     "text": [
      "Tasa de acierto:  0.4814777688296402\n"
     ]
    }
   ],
   "source": [
    "print(\"Tasa de acierto: \", accuracy)"
   ]
  },
  {
   "cell_type": "markdown",
   "metadata": {},
   "source": [
    "# Apartado 4"
   ]
  },
  {
   "cell_type": "markdown",
   "metadata": {},
   "source": [
    "Repita los pasos 2 y 3 aplicando la Regresión logística. En ambos casos, solamente\n",
    "cuando emplee el método del resorte o Hold-Out, calcule la matriz de confusión."
   ]
  },
  {
   "cell_type": "code",
   "execution_count": 17,
   "metadata": {},
   "outputs": [],
   "source": [
    "from sklearn.linear_model import LogisticRegression"
   ]
  },
  {
   "cell_type": "markdown",
   "metadata": {},
   "source": [
    "### Hold-Out"
   ]
  },
  {
   "cell_type": "raw",
   "metadata": {},
   "source": [
    "Separación estratificada de los valores de la clase y las etiquetas 1/3 y 2/3."
   ]
  },
  {
   "cell_type": "code",
   "execution_count": 18,
   "metadata": {},
   "outputs": [],
   "source": [
    "X_train,X_test,Y_train,Y_test = train_test_split(X,Y, test_size= 1/3, random_state=1, stratify=Y)"
   ]
  },
  {
   "cell_type": "code",
   "execution_count": 19,
   "metadata": {},
   "outputs": [],
   "source": [
    "clf = LogisticRegression(n_jobs=-1) #Crea el clasificador\n",
    "clf.fit(X_train, Y_train) #Entrena el clasificador\n",
    "\n",
    "Y_predict = clf.predict(X_test) #Crea las prediciones en base al clasificador ajustado\n",
    "accuracy = clf.score(X_test, Y_test) #Calcula la tasa de acierto"
   ]
  },
  {
   "cell_type": "code",
   "execution_count": 20,
   "metadata": {},
   "outputs": [
    {
     "name": "stdout",
     "output_type": "stream",
     "text": [
      "Tasa de acierto:  0.49511213341000576\n"
     ]
    }
   ],
   "source": [
    "print(\"Tasa de acierto: \", accuracy)"
   ]
  },
  {
   "cell_type": "code",
   "execution_count": 21,
   "metadata": {},
   "outputs": [
    {
     "name": "stdout",
     "output_type": "stream",
     "text": [
      "\n",
      "\t\t\tMatriz de Confusión:\n",
      " [[2804    0    0    0    6   45    0    0    0    0    2    0]\n",
      " [   3    0    0    0    0    0    0    0    0    0    0    0]\n",
      " [  62    0    0    0    0    7    0    0    0    0    0    0]\n",
      " [ 226    0    0    0    0    8    0    1    0    0    0    0]\n",
      " [ 711    0    0    0    0   19    0    0    0    0    0    0]\n",
      " [1290    0    0    0    4    7    0    3    4    0    0    0]\n",
      " [ 293    0    0    0    0    0    0    1    0    0    4    0]\n",
      " [ 305    0    0    0    0   35    0    0    6    0    0    0]\n",
      " [  47    0    0    0    1    6    0    7  490    0    3    0]\n",
      " [  30    0    0    0    0    0    0    0    0    0    0    0]\n",
      " [ 198    0    0    0    3    4    0    0    0    0  143    0]\n",
      " [ 120    0    0    0    2    0    0    0   25    0   31    0]]\n"
     ]
    }
   ],
   "source": [
    "print(\"\\n\\t\\t\\tMatriz de Confusión:\\n\", confusion_matrix(Y_test, Y_predict))"
   ]
  },
  {
   "cell_type": "markdown",
   "metadata": {},
   "source": [
    "### Cross Validation"
   ]
  },
  {
   "cell_type": "code",
   "execution_count": 22,
   "metadata": {},
   "outputs": [],
   "source": [
    "skf = StratifiedKFold(n_splits=10) #Crea las 10 particiones para la validación cruzada\n",
    "accuracy = 0\n",
    "\n",
    "for train_index, test_index in skf.split(X, Y):\n",
    "    # Crea, entrena y predice según los 12 clasificadores en las 10 particiones\n",
    "    X_train, X_test = X[train_index], X[test_index]\n",
    "    Y_train, Y_test = Y[train_index], Y[test_index]\n",
    "    \n",
    "    clf = LogisticRegression(n_jobs=-1) #Crea el clasificador\n",
    "    clf.fit(X_train, Y_train) #Entrena el clasificador\n",
    "\n",
    "    accuracy = accuracy + clf.score(X_test, Y_test)  #Suma la tasa de acierto en cada iteración\n",
    "\n",
    "accuracy = accuracy/10 #Calcula la tasa de acierto total"
   ]
  },
  {
   "cell_type": "code",
   "execution_count": 23,
   "metadata": {},
   "outputs": [
    {
     "name": "stdout",
     "output_type": "stream",
     "text": [
      "Tasa de acierto:  0.49753192961404225\n"
     ]
    }
   ],
   "source": [
    "print(\"Tasa de acierto: \", accuracy)"
   ]
  }
 ],
 "metadata": {
  "kernelspec": {
   "display_name": "Python 3",
   "language": "python",
   "name": "python3"
  },
  "language_info": {
   "codemirror_mode": {
    "name": "ipython",
    "version": 3
   },
   "file_extension": ".py",
   "mimetype": "text/x-python",
   "name": "python",
   "nbconvert_exporter": "python",
   "pygments_lexer": "ipython3",
   "version": "3.8.5"
  }
 },
 "nbformat": 4,
 "nbformat_minor": 4
}
