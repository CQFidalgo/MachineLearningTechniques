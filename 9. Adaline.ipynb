{
 "cells": [
  {
   "cell_type": "markdown",
   "metadata": {},
   "source": [
    "# PRÁCTICA 9: PERCEPTRÓN SIMPLE Y ADALINE\n",
    "## Ejercicio 2\n",
    "## CQFidalgo"
   ]
  },
  {
   "cell_type": "markdown",
   "metadata": {},
   "source": [
    "**Empleando el conjunto de datos de BOSTON incorporado en el paquete de SKLEARN, realice una regresión lineal aplicando el ADALINE. Para ello, existe la función SGDRegressor, a la cual se le habrá de inicializar con ciertos valores como el número máximo de iteraciones, que será de 5000. Asimismo, se fijará la tolerancia para que, en el caso de no cambiar los resultados en iteraciones anteriores por este valor, se dé por finalizado el algoritmo. Este valor se establecerá en 10-6. Aparte del coeficiente R2, que proporciona el método “score”, se pide calcular el porcentaje de aciertos sobre las muestras de\n",
    "test, cuyo error relativo, entre el valor predicho y el real, sea menor que un 15%.**\n",
    "\n",
    "**Aplicando el método de validación cruzada (K=10), obtenga una tabla con los resultados anteriores para cada carpeta.**\n",
    "\n",
    "**Finalmente, obtenga la media y desviación estándar de ambas columnas.**"
   ]
  },
  {
   "cell_type": "code",
   "execution_count": 1,
   "metadata": {},
   "outputs": [],
   "source": [
    "import numpy as np\n",
    "import pandas as pd\n",
    "from sklearn.datasets import load_boston\n",
    "from sklearn.linear_model import SGDRegressor\n",
    "from sklearn.preprocessing import MinMaxScaler\n",
    "from sklearn.model_selection import KFold"
   ]
  },
  {
   "cell_type": "markdown",
   "metadata": {},
   "source": [
    "Carga el conjnto de datos \"Boston\""
   ]
  },
  {
   "cell_type": "code",
   "execution_count": 2,
   "metadata": {},
   "outputs": [],
   "source": [
    "data = load_boston()\n",
    "Y = data.target"
   ]
  },
  {
   "cell_type": "markdown",
   "metadata": {},
   "source": [
    "Normaliza los datos"
   ]
  },
  {
   "cell_type": "code",
   "execution_count": 3,
   "metadata": {},
   "outputs": [],
   "source": [
    "X = MinMaxScaler().fit_transform(data.data)"
   ]
  },
  {
   "cell_type": "markdown",
   "metadata": {},
   "source": [
    "Inicializa el regresor lineal con 5000 iteraciones y una tolerancia de 10-6."
   ]
  },
  {
   "cell_type": "code",
   "execution_count": 4,
   "metadata": {},
   "outputs": [],
   "source": [
    "reg = SGDRegressor(max_iter=5000, tol=1e-6, random_state=0)"
   ]
  },
  {
   "cell_type": "code",
   "execution_count": 5,
   "metadata": {},
   "outputs": [],
   "source": [
    "res = pd.DataFrame(columns=['Tasa de acierto','R2'], index=['Fold 0','Fold 1','Fold 2','Fold 3','Fold 4','Fold 5','Fold 6','Fold 7','Fold 8','Fold 9'])\n",
    "k = 0\n",
    "kf = KFold(n_splits=10) #Validación cruzada con 10 particiones."
   ]
  },
  {
   "cell_type": "code",
   "execution_count": 6,
   "metadata": {},
   "outputs": [
    {
     "data": {
      "text/html": [
       "<div>\n",
       "<style scoped>\n",
       "    .dataframe tbody tr th:only-of-type {\n",
       "        vertical-align: middle;\n",
       "    }\n",
       "\n",
       "    .dataframe tbody tr th {\n",
       "        vertical-align: top;\n",
       "    }\n",
       "\n",
       "    .dataframe thead th {\n",
       "        text-align: right;\n",
       "    }\n",
       "</style>\n",
       "<table border=\"1\" class=\"dataframe\">\n",
       "  <thead>\n",
       "    <tr style=\"text-align: right;\">\n",
       "      <th></th>\n",
       "      <th>Tasa de acierto</th>\n",
       "      <th>R2</th>\n",
       "    </tr>\n",
       "  </thead>\n",
       "  <tbody>\n",
       "    <tr>\n",
       "      <th>Fold 0</th>\n",
       "      <td>0.705882</td>\n",
       "      <td>0.766476</td>\n",
       "    </tr>\n",
       "    <tr>\n",
       "      <th>Fold 1</th>\n",
       "      <td>0.764706</td>\n",
       "      <td>0.644545</td>\n",
       "    </tr>\n",
       "    <tr>\n",
       "      <th>Fold 2</th>\n",
       "      <td>0.72549</td>\n",
       "      <td>-0.171073</td>\n",
       "    </tr>\n",
       "    <tr>\n",
       "      <th>Fold 3</th>\n",
       "      <td>0.568627</td>\n",
       "      <td>0.63155</td>\n",
       "    </tr>\n",
       "    <tr>\n",
       "      <th>Fold 4</th>\n",
       "      <td>0.588235</td>\n",
       "      <td>0.596121</td>\n",
       "    </tr>\n",
       "    <tr>\n",
       "      <th>Fold 5</th>\n",
       "      <td>0.72549</td>\n",
       "      <td>0.743927</td>\n",
       "    </tr>\n",
       "    <tr>\n",
       "      <th>Fold 6</th>\n",
       "      <td>0.7</td>\n",
       "      <td>0.465113</td>\n",
       "    </tr>\n",
       "    <tr>\n",
       "      <th>Fold 7</th>\n",
       "      <td>0.24</td>\n",
       "      <td>0.084458</td>\n",
       "    </tr>\n",
       "    <tr>\n",
       "      <th>Fold 8</th>\n",
       "      <td>0.32</td>\n",
       "      <td>-0.471057</td>\n",
       "    </tr>\n",
       "    <tr>\n",
       "      <th>Fold 9</th>\n",
       "      <td>0.62</td>\n",
       "      <td>0.420804</td>\n",
       "    </tr>\n",
       "  </tbody>\n",
       "</table>\n",
       "</div>"
      ],
      "text/plain": [
       "       Tasa de acierto        R2\n",
       "Fold 0        0.705882  0.766476\n",
       "Fold 1        0.764706  0.644545\n",
       "Fold 2         0.72549 -0.171073\n",
       "Fold 3        0.568627   0.63155\n",
       "Fold 4        0.588235  0.596121\n",
       "Fold 5         0.72549  0.743927\n",
       "Fold 6             0.7  0.465113\n",
       "Fold 7            0.24  0.084458\n",
       "Fold 8            0.32 -0.471057\n",
       "Fold 9            0.62  0.420804"
      ]
     },
     "execution_count": 6,
     "metadata": {},
     "output_type": "execute_result"
    }
   ],
   "source": [
    "for train_index, test_index in kf.split(X, Y):\n",
    "    X_train, X_test = X[train_index], X[test_index]\n",
    "    Y_train, Y_test = Y[train_index], Y[test_index]\n",
    "    reg.fit(X_train, Y_train) #Entrena el regresor\n",
    "    Y_predict = reg.predict(X_test)\n",
    "    Y_rel_error = abs(Y_test-Y_predict)/Y_test #Calcula el error de cada partición.\n",
    "    ac = np.argwhere(Y_rel_error<0.15).shape[0]/Y_rel_error.shape[0] #Calcula la tasa de acierto de cada partición.\n",
    "    r2 = reg.score(X_test,Y_test) #Cacula el r2 de cada partición.\n",
    "    \n",
    "    res.loc['Fold '+str(k),:] = [ac,r2]\n",
    "    k +=1\n",
    "\n",
    "res"
   ]
  },
  {
   "cell_type": "code",
   "execution_count": 7,
   "metadata": {},
   "outputs": [
    {
     "data": {
      "text/html": [
       "<div>\n",
       "<style scoped>\n",
       "    .dataframe tbody tr th:only-of-type {\n",
       "        vertical-align: middle;\n",
       "    }\n",
       "\n",
       "    .dataframe tbody tr th {\n",
       "        vertical-align: top;\n",
       "    }\n",
       "\n",
       "    .dataframe thead th {\n",
       "        text-align: right;\n",
       "    }\n",
       "</style>\n",
       "<table border=\"1\" class=\"dataframe\">\n",
       "  <thead>\n",
       "    <tr style=\"text-align: right;\">\n",
       "      <th></th>\n",
       "      <th>Media</th>\n",
       "      <th>Desviación estándar</th>\n",
       "    </tr>\n",
       "  </thead>\n",
       "  <tbody>\n",
       "    <tr>\n",
       "      <th>Tasa de acierto</th>\n",
       "      <td>0.595843</td>\n",
       "      <td>0.179253</td>\n",
       "    </tr>\n",
       "    <tr>\n",
       "      <th>R2</th>\n",
       "      <td>0.371086</td>\n",
       "      <td>0.419685</td>\n",
       "    </tr>\n",
       "  </tbody>\n",
       "</table>\n",
       "</div>"
      ],
      "text/plain": [
       "                    Media Desviación estándar\n",
       "Tasa de acierto  0.595843            0.179253\n",
       "R2               0.371086            0.419685"
      ]
     },
     "execution_count": 7,
     "metadata": {},
     "output_type": "execute_result"
    }
   ],
   "source": [
    "res1 = pd.DataFrame(columns=['Media','Desviación estándar'])\n",
    "res1.loc['Tasa de acierto',:] = [res.mean().values[0],res.std().values[0]]\n",
    "res1.loc['R2',:] = [res.mean().values[1],res.std().values[1]]\n",
    "res1"
   ]
  }
 ],
 "metadata": {
  "kernelspec": {
   "display_name": "Python 3",
   "language": "python",
   "name": "python3"
  },
  "language_info": {
   "codemirror_mode": {
    "name": "ipython",
    "version": 3
   },
   "file_extension": ".py",
   "mimetype": "text/x-python",
   "name": "python",
   "nbconvert_exporter": "python",
   "pygments_lexer": "ipython3",
   "version": "3.8.5"
  }
 },
 "nbformat": 4,
 "nbformat_minor": 4
}
